{
 "cells": [
  {
   "cell_type": "markdown",
   "metadata": {},
   "source": [
    "### programming in python using strings\n",
    "- strings\n",
    "- string slicing\n",
    "- fundamental programs and eaxmples with strings"
   ]
  },
  {
   "cell_type": "code",
   "execution_count": 5,
   "metadata": {},
   "outputs": [
    {
     "name": "stdout",
     "output_type": "stream",
     "text": [
      "python\n",
      "python\n",
      "A\n",
      "123\n",
      "<class 'str'>\n",
      "<class 'str'>\n",
      "<class 'str'>\n",
      "<class 'str'>\n"
     ]
    }
   ],
   "source": [
    "s1='python'\n",
    "s2=\"python\"\n",
    "s3='A'\n",
    "s4=\"123\"\n",
    "print(s1)\n",
    "print(s2)\n",
    "print(s3)\n",
    "print(s4)\n",
    "print(type(s1))\n",
    "print(type(s2))\n",
    "print(type(s3))\n",
    "print(type(s4))\n"
   ]
  },
  {
   "cell_type": "markdown",
   "metadata": {},
   "source": [
    "### string slicing\n"
   ]
  },
  {
   "cell_type": "code",
   "execution_count": 15,
   "metadata": {},
   "outputs": [
    {
     "name": "stdout",
     "output_type": "stream",
     "text": [
      "p\n",
      "y\n",
      "6\n",
      "n\n",
      "n\n",
      "o\n",
      "py\n",
      "on\n",
      "hon\n",
      "tho\n",
      "ytho\n",
      "th\n"
     ]
    }
   ],
   "source": [
    "s1=\"python\"\n",
    "print(s1[0]) #accessing the 1st character of string\n",
    "print(s1[1]) #accessing the 2nd character of string\n",
    "print(len(s1)) #prints lenth of the given string\n",
    "print(s1[len(s1)-1]) # access the last character\n",
    "print(s1[-1])# also access last charater\n",
    "print(s1[-2]) #access 2nd last character\n",
    "print(s1[0:2]) #access 1st 2 characters\n",
    "print(s1[-2: ]) #access last 2 characters from reverse\n",
    "print(s1[3: ]) # access rest 3 characters\n",
    "print(s1[2:5]) #access 3 characters from 2 to 5 \n",
    "print(s1[1:-1]) #access characters except for -1 th character\n",
    "print(s1[2:-2]) #access characters except for 2\n"
   ]
  },
  {
   "cell_type": "code",
   "execution_count": 16,
   "metadata": {},
   "outputs": [
    {
     "data": {
      "text/plain": [
       "'nohtyp'"
      ]
     },
     "execution_count": 16,
     "metadata": {},
     "output_type": "execute_result"
    }
   ],
   "source": [
    "s1[-1::-1] #reverses the string\n"
   ]
  },
  {
   "cell_type": "code",
   "execution_count": 17,
   "metadata": {},
   "outputs": [
    {
     "data": {
      "text/plain": [
       "'pto'"
      ]
     },
     "execution_count": 17,
     "metadata": {},
     "output_type": "execute_result"
    }
   ],
   "source": [
    "#access the charactrs in string alt.\n",
    "#python--pty\n",
    "s1[::2]"
   ]
  },
  {
   "cell_type": "code",
   "execution_count": 18,
   "metadata": {},
   "outputs": [
    {
     "data": {
      "text/plain": [
       "'nhy'"
      ]
     },
     "execution_count": 18,
     "metadata": {},
     "output_type": "execute_result"
    }
   ],
   "source": [
    "#access the alt characters from reverse direction\n",
    "#python--nhy\n",
    "s1[::-2]"
   ]
  },
  {
   "cell_type": "code",
   "execution_count": 19,
   "metadata": {},
   "outputs": [
    {
     "data": {
      "text/plain": [
       "'ph'"
      ]
     },
     "execution_count": 19,
     "metadata": {},
     "output_type": "execute_result"
    }
   ],
   "source": [
    "s1[::3]"
   ]
  },
  {
   "cell_type": "code",
   "execution_count": 20,
   "metadata": {},
   "outputs": [
    {
     "data": {
      "text/plain": [
       "'t'"
      ]
     },
     "execution_count": 20,
     "metadata": {},
     "output_type": "execute_result"
    }
   ],
   "source": [
    "s1[2::4]"
   ]
  },
  {
   "cell_type": "markdown",
   "metadata": {},
   "source": [
    "### function with string operation"
   ]
  },
  {
   "cell_type": "code",
   "execution_count": 21,
   "metadata": {},
   "outputs": [
    {
     "data": {
      "text/plain": [
       "'nohtyp'"
      ]
     },
     "execution_count": 21,
     "metadata": {},
     "output_type": "execute_result"
    }
   ],
   "source": [
    "#reverse the string \n",
    "def reverseString(s):\n",
    "    return s[-1::-1]\n",
    "reverseString('python')"
   ]
  },
  {
   "cell_type": "code",
   "execution_count": 26,
   "metadata": {},
   "outputs": [
    {
     "name": "stdout",
     "output_type": "stream",
     "text": [
      "False\n",
      "True\n"
     ]
    }
   ],
   "source": [
    "def palindrome(s):\n",
    "    if s==s[-1::-1]:\n",
    "        return True\n",
    "    else:\n",
    "        return False\n",
    "print(palindrome('python'))\n",
    "print(palindrome('dad'))"
   ]
  },
  {
   "cell_type": "code",
   "execution_count": 29,
   "metadata": {},
   "outputs": [
    {
     "name": "stdout",
     "output_type": "stream",
     "text": [
      "P T O "
     ]
    }
   ],
   "source": [
    "#function to print the upper case characters\n",
    "#example:python\n",
    "\n",
    "#ASCII \n",
    "#A-Z: 64-90\n",
    "# a-z: 97-122\n",
    "#0-8 : 48-57\n",
    "#space :32\n",
    "\n",
    "\n",
    "\n",
    "def printUpper(s):\n",
    "    for i in range(len(s)):\n",
    "        if ord(s[i])>=65 and ord(s[i])<=90:\n",
    "            print(s[i],end=' ')\n",
    "    return \n",
    "printUpper('PyThOn') #P T"
   ]
  },
  {
   "cell_type": "code",
   "execution_count": 30,
   "metadata": {},
   "outputs": [
    {
     "data": {
      "text/plain": [
       "97"
      ]
     },
     "execution_count": 30,
     "metadata": {},
     "output_type": "execute_result"
    }
   ],
   "source": [
    "ord('a') #ord() func. gives o/p as no. which is an ASCII no."
   ]
  },
  {
   "cell_type": "code",
   "execution_count": 39,
   "metadata": {},
   "outputs": [
    {
     "name": "stdout",
     "output_type": "stream",
     "text": [
      "same count\n",
      "proggramming\n"
     ]
    }
   ],
   "source": [
    "# function to return o/p as \"same count\" or \"programming\"\n",
    "# samecount--lower and upper char have same count\n",
    "#programming--count of upper and lower char is not same\n",
    "\n",
    "#eg 1: PyThOn-- 3 P T O\n",
    "#          -- 3 y h n\n",
    "    \n",
    "#o/p : samecount \n",
    "\n",
    "#eg 2: PythoN -- 2 P N\n",
    "#              -- 4 y t h o\n",
    "    \n",
    "def printupper(s):\n",
    "    cntupper=0\n",
    "    cntlower=0\n",
    "    for i in range(len(s)):\n",
    "        if ord(s[i])>=65 and ord(s[i])<=90:\n",
    "            cntupper+=1\n",
    "         \n",
    "        elif ord(s[i])>=97 and ord(s[i])<=122:\n",
    "           cntlower+=1\n",
    "    if cntupper==cntlower:\n",
    "        print('same count')\n",
    "    else:\n",
    "        print('proggramming')\n",
    "printupper('PyThOn')\n",
    "printupper('PythOn')\n",
    "        "
   ]
  },
  {
   "cell_type": "code",
   "execution_count": 24,
   "metadata": {},
   "outputs": [
    {
     "name": "stdout",
     "output_type": "stream",
     "text": [
      "1 8 8 9 "
     ]
    }
   ],
   "source": [
    "#function to extract the digits from string\n",
    "#eg #1:\n",
    "#i/p : appli18cation89\n",
    "#o/p:1889\n",
    "def extractdigits(s):\n",
    "    for i in range(len(s)):\n",
    "        if ord(s[i])>=48 and ord(s[i])<=57:\n",
    "            print(s[i],end=' ')\n",
    "extractdigits('appli18cation89')\n"
   ]
  },
  {
   "cell_type": "code",
   "execution_count": 31,
   "metadata": {},
   "outputs": [
    {
     "name": "stdout",
     "output_type": "stream",
     "text": [
      "0.0009958744049072266\n"
     ]
    }
   ],
   "source": [
    "#function to add the digits of the string \n",
    "#example #1:\n",
    "#i/p:Appli18cation89\n",
    "#o/p:26(1+8+8+9)\n",
    "from timeit import time\n",
    "start1=time.time()\n",
    "def sumofdigits(s):\n",
    "    sum=0\n",
    "    for i in range(len(s)):\n",
    "        if ord(s[i])>=48 and ord(s[i])<=57:\n",
    "            sum=sum+(ord(s[i])-48)\n",
    "    return sum\n",
    "sumofdigits('appli18cation89')\n",
    "end1=time.time()\n",
    "print(end1-start1)"
   ]
  },
  {
   "cell_type": "code",
   "execution_count": 62,
   "metadata": {},
   "outputs": [
    {
     "data": {
      "text/plain": [
       "' MADE'"
      ]
     },
     "execution_count": 62,
     "metadata": {},
     "output_type": "execute_result"
    }
   ],
   "source": [
    "#function to 2nd word in upper case\n",
    "#example #1:\n",
    "#input:pyhton made easy\n",
    "#output : MADE\n",
    "\n",
    "#example #2:\n",
    "#input:learn python strings\n",
    "#output:PYTHON\n",
    "def uppercase(s):\n",
    "    a=\"\" \n",
    "    space=0\n",
    "    for i in range(len(s)):\n",
    "        if s[i]==\" \":\n",
    "            space+=1\n",
    "        if space==1:\n",
    "            if ord(s[i])in range (ord('a'),ord('z')+1):\n",
    "                a+=chr(ord(s[i])-32)\n",
    "            else:\n",
    "                a+=s[i]\n",
    "    return a\n",
    "uppercase('Python Made Easy')"
   ]
  },
  {
   "cell_type": "markdown",
   "metadata": {},
   "source": [
    "#### list\n",
    "- one of the data structure in python\n",
    "- DS means to store,sort and search operations\n",
    "- its on of the common DS in python, the items in list separated  by comma and enclosed in square[]\n",
    "  - list1=[1,2,3,4]\n",
    "  -list2=[\"Gitam\",1,2,1.89,\"vizag\"]"
   ]
  },
  {
   "cell_type": "code",
   "execution_count": 64,
   "metadata": {},
   "outputs": [
    {
     "name": "stdout",
     "output_type": "stream",
     "text": [
      "[1, 8, 6, 9, 2]\n",
      "1\n",
      "8\n",
      "2\n",
      "9\n",
      "[6, 9, 2]\n"
     ]
    }
   ],
   "source": [
    "li=[1,8,6,9,2]\n",
    "print(li)\n",
    "print(li[0])\n",
    "print(li[1])\n",
    "print(li[-1])\n",
    "print(li[-2])\n",
    "print(li[2:])"
   ]
  },
  {
   "cell_type": "code",
   "execution_count": 65,
   "metadata": {},
   "outputs": [
    {
     "name": "stdout",
     "output_type": "stream",
     "text": [
      "['gitam', 1528, 2018, 'vizag']\n",
      "['gitam', 123, 2018, 'vizag']\n"
     ]
    }
   ],
   "source": [
    "li=[\"gitam\",1528,2018,\"vizag\"]\n",
    "print(li)\n",
    "li[1]=123\n",
    "print(li)"
   ]
  },
  {
   "cell_type": "code",
   "execution_count": 66,
   "metadata": {},
   "outputs": [
    {
     "name": "stdout",
     "output_type": "stream",
     "text": [
      "['gitam', 123, 2018]\n"
     ]
    }
   ],
   "source": [
    "del li[3]\n",
    "print(li)"
   ]
  },
  {
   "cell_type": "code",
   "execution_count": 69,
   "metadata": {},
   "outputs": [
    {
     "name": "stdout",
     "output_type": "stream",
     "text": [
      "5\n",
      "[1, 2, 3, 4, 5, 1, 2, 3, 4, 5]\n",
      "True\n",
      "False\n",
      "1 2 3 4 5 \n",
      "1 2 3 4 5 "
     ]
    }
   ],
   "source": [
    "#basic list operations\n",
    "li=[1,2,3,4,5]\n",
    "#length of the list\n",
    "print(len(li))\n",
    "#list repetition\n",
    "print(li*2)\n",
    "#to know certain item is present in list or not\n",
    "print(4 in li)\n",
    "print(10 in li)\n",
    "#access the list item from the iterations\n",
    "#1 way to define\n",
    "for i in range(len(li)):\n",
    "    print (li[i],end=' ')\n",
    "print()\n",
    "# 2nd way to print the list items \n",
    "for i in li:\n",
    "    print(i,end=' ')"
   ]
  },
  {
   "cell_type": "code",
   "execution_count": 71,
   "metadata": {},
   "outputs": [
    {
     "name": "stdout",
     "output_type": "stream",
     "text": [
      "25\n",
      "1\n",
      "56\n",
      "11\n"
     ]
    }
   ],
   "source": [
    "#basic list fumctions\n",
    "li=[1,9,16,25,5]\n",
    "print(max(li))\n",
    "print(min(li))\n",
    "print (sum(li))\n",
    "print(sum(li) //len(li)) #average"
   ]
  },
  {
   "cell_type": "code",
   "execution_count": 5,
   "metadata": {},
   "outputs": [
    {
     "data": {
      "text/plain": [
       "2"
      ]
     },
     "execution_count": 5,
     "metadata": {},
     "output_type": "execute_result"
    }
   ],
   "source": [
    "#methods of list\n",
    "li=[1,9,16,25,5]\n",
    "li\n",
    "li.append(29) #adds new element to the list\n",
    "li.insert(2,56) #inserts value at specific index\n",
    "li.append(9)\n",
    "li.count(9) #return how many values have been repeated\n",
    "li.index(56)#returns this value at that index"
   ]
  },
  {
   "cell_type": "code",
   "execution_count": 11,
   "metadata": {},
   "outputs": [
    {
     "name": "stdout",
     "output_type": "stream",
     "text": [
      "[1, 1, 5, 5, 9, 9, 9, 1, 1, 5, 5, 9, 9, 9]\n",
      "[1, 1, 1, 1, 5, 5, 5, 5, 9, 9, 9, 9, 9, 9]\n",
      "[1, 1, 1, 1, 5, 5, 5, 5, 9, 9, 9, 9, 9]\n",
      "[1, 1, 1, 1, 5, 5, 5, 5, 9, 9, 9, 9, 9, 1, 1, 1, 1, 5, 5, 5, 5, 9, 9, 9, 9, 9]\n",
      "[9, 9, 9, 9, 9, 5, 5, 5, 5, 1, 1, 1, 1, 9, 9, 9, 9, 9, 5, 5, 5, 5, 1, 1, 1, 1]\n"
     ]
    }
   ],
   "source": [
    "#method of list object\n",
    "print (li)\n",
    "li.sort() # sorts the list in an order\n",
    "print(li)\n",
    "li.pop() #last index value \n",
    "print(li)\n",
    "li.extend(li)\n",
    "print(li)\n",
    "li.reverse()\n",
    "print (li)\n"
   ]
  },
  {
   "cell_type": "code",
   "execution_count": 19,
   "metadata": {},
   "outputs": [
    {
     "name": "stdout",
     "output_type": "stream",
     "text": [
      "[1, 6, 9, 19, 22, 25, 45]\n",
      "45\n",
      "19\n"
     ]
    }
   ],
   "source": [
    "#function to return large no. from the list\n",
    "def LargeNumber(li):\n",
    "    li.sort()\n",
    "    return li[-1]\n",
    "def genericLarge(li,n):\n",
    "    li.sort()\n",
    "    return li[-n]\n",
    "li=[19,1,25,6,9,45,22]\n",
    "li.sort()\n",
    "print(li)\n",
    "print(LargeNumber(li))\n",
    "print(genericLarge(li,4))"
   ]
  },
  {
   "cell_type": "code",
   "execution_count": 22,
   "metadata": {},
   "outputs": [
    {
     "name": "stdout",
     "output_type": "stream",
     "text": [
      "[1.25, 6, 9, 19, 22, 45]\n",
      "1.25\n",
      "22\n"
     ]
    }
   ],
   "source": [
    "#function to find least and generic least no.\n",
    "def leastNumber(li):\n",
    "    li.sort()\n",
    "    return li[0]\n",
    "def genericLeastNumber(li,n):\n",
    "    li.sort()\n",
    "    return li[n-1]\n",
    "li=[19,1.25,6,9,45,22]\n",
    "li.sort()\n",
    "print(li)\n",
    "print(leastNumber(li))\n",
    "print(genericLeastNumber(li,5))"
   ]
  },
  {
   "cell_type": "markdown",
   "metadata": {},
   "source": [
    "### file handling in python\n",
    "- file : document which contains some information and resides on permanent devices\n",
    "- different types of files-- .txt, .pdf, .doc, .ppf...etc\n",
    "- input --keyboard\n",
    "- output --file system\n"
   ]
  },
  {
   "cell_type": "code",
   "execution_count": 23,
   "metadata": {},
   "outputs": [
    {
     "name": "stdout",
     "output_type": "stream",
     "text": [
      "file is successfully created and data has been inserted\n"
     ]
    }
   ],
   "source": [
    "#function to create file and write some data to the file\n",
    "# mode --w (it creates file and write to same data)\n",
    "#if the file already exists with same name it will overwrite\n",
    "def createFile(filename):\n",
    "    f=open(filename,'w')\n",
    "    for i in range(10):\n",
    "        f.write('this is %d line \\n'%i)\n",
    "    print('file is successfully created and data has been inserted')\n",
    "    return\n",
    "createFile('data.txt')"
   ]
  },
  {
   "cell_type": "code",
   "execution_count": 24,
   "metadata": {},
   "outputs": [
    {
     "data": {
      "text/plain": [
       "'C:\\\\Users\\\\Admin\\\\Desktop\\\\problem solving and programming'"
      ]
     },
     "execution_count": 24,
     "metadata": {},
     "output_type": "execute_result"
    }
   ],
   "source": [
    "pwd"
   ]
  },
  {
   "cell_type": "code",
   "execution_count": 28,
   "metadata": {},
   "outputs": [
    {
     "name": "stdout",
     "output_type": "stream",
     "text": [
      "program completed successfully\n"
     ]
    }
   ],
   "source": [
    "def append(filename):\n",
    "    f=open(filename,'a')\n",
    "    f.write('Gitam Vizag \\n')\n",
    "    f.write('Python programming \\n')\n",
    "    print('program completed successfully')\n",
    "    return \n",
    "append('data.txt')"
   ]
  },
  {
   "cell_type": "code",
   "execution_count": 27,
   "metadata": {},
   "outputs": [
    {
     "data": {
      "text/plain": [
       "'C:\\\\Users\\\\Admin\\\\Desktop\\\\problem solving and programming'"
      ]
     },
     "execution_count": 27,
     "metadata": {},
     "output_type": "execute_result"
    }
   ],
   "source": [
    "pwd\n"
   ]
  },
  {
   "cell_type": "code",
   "execution_count": 30,
   "metadata": {},
   "outputs": [
    {
     "name": "stdout",
     "output_type": "stream",
     "text": [
      "this is 0 line \n",
      "this is 1 line \n",
      "this is 2 line \n",
      "this is 3 line \n",
      "this is 4 line \n",
      "this is 5 line \n",
      "this is 6 line \n",
      "this is 7 line \n",
      "this is 8 line \n",
      "this is 9 line \n",
      "Gitam Vizag \n",
      "Pyh=thon programming \n",
      "Gitam Vizag \n",
      "Python programming \n",
      "\n"
     ]
    }
   ],
   "source": [
    "#function to read the file\n",
    "def readFileData(filename):\n",
    "    f=open(filename,'r')\n",
    "    if f.mode=='r':\n",
    "        a=f.read()\n",
    "        print(a)\n",
    "    f.close()\n",
    "    return\n",
    "readFileData('data.txt')"
   ]
  },
  {
   "cell_type": "code",
   "execution_count": 33,
   "metadata": {},
   "outputs": [
    {
     "name": "stdout",
     "output_type": "stream",
     "text": [
      "['Python', 'Programming']\n"
     ]
    }
   ],
   "source": [
    "#analysis on the file--word count,digit count,char count\n",
    "s1=\"Python Programming\"\n",
    "print(s1.split())"
   ]
  },
  {
   "cell_type": "code",
   "execution_count": 34,
   "metadata": {},
   "outputs": [
    {
     "data": {
      "text/plain": [
       "48"
      ]
     },
     "execution_count": 34,
     "metadata": {},
     "output_type": "execute_result"
    }
   ],
   "source": [
    "#word count--input file\n",
    "def wordcount(filename):\n",
    "    with open(filename,'r') as f:\n",
    "        if f.mode=='r':\n",
    "            a=f.read()\n",
    "            li=a.split() #divides the words by using white space\n",
    "    return len(li)\n",
    "wordcount('data.txt')"
   ]
  },
  {
   "cell_type": "code",
   "execution_count": 48,
   "metadata": {},
   "outputs": [
    {
     "data": {
      "text/plain": [
       "2"
      ]
     },
     "execution_count": 48,
     "metadata": {},
     "output_type": "execute_result"
    }
   ],
   "source": [
    "#specific word count from the file\n",
    "#example #1:\n",
    "#input --This\n",
    "#output -- 10\n",
    "\n",
    "#example #2:\n",
    "#input --Gitam\n",
    "#output --1\n",
    "def wordcount(filename,word):\n",
    "    with open(filename,'r') as f:\n",
    "        \n",
    "        if f.mode=='r':\n",
    "            a=f.read()\n",
    "            li=a.split()\n",
    "    return li.count(word)\n",
    "wordcount('data.txt','Gitam')"
   ]
  },
  {
   "cell_type": "code",
   "execution_count": 52,
   "metadata": {},
   "outputs": [
    {
     "data": {
      "text/plain": [
       "228"
      ]
     },
     "execution_count": 52,
     "metadata": {},
     "output_type": "execute_result"
    }
   ],
   "source": [
    "#fucntion to find the character count from the input file\n",
    "def charCount(filename):\n",
    "    with open(filename,'r') as f:\n",
    "        if f.mode=='r':\n",
    "            a=f.read()\n",
    "            li=list(a)\n",
    "    return len(li)\n",
    "charCount('data.txt')"
   ]
  },
  {
   "cell_type": "code",
   "execution_count": 49,
   "metadata": {},
   "outputs": [
    {
     "data": {
      "text/plain": [
       "['P',\n",
       " 'y',\n",
       " 't',\n",
       " 'h',\n",
       " 'o',\n",
       " 'n',\n",
       " ' ',\n",
       " 'P',\n",
       " 'r',\n",
       " 'o',\n",
       " 'g',\n",
       " 'r',\n",
       " 'a',\n",
       " 'm',\n",
       " 'm',\n",
       " 'i',\n",
       " 'n',\n",
       " 'g',\n",
       " ' ']"
      ]
     },
     "execution_count": 49,
     "metadata": {},
     "output_type": "execute_result"
    }
   ],
   "source": [
    "s=\"Python Programming \"\n",
    "list(s)"
   ]
  },
  {
   "cell_type": "code",
   "execution_count": 55,
   "metadata": {},
   "outputs": [
    {
     "data": {
      "text/plain": [
       "15"
      ]
     },
     "execution_count": 55,
     "metadata": {},
     "output_type": "execute_result"
    }
   ],
   "source": [
    "#find no. of rows and columns in the given input \n",
    "def findLineCount(filename):\n",
    "    with open(filename,'r') as f:\n",
    "        if f.mode=='r':\n",
    "            a=f.read()\n",
    "            li=a.split('\\n')\n",
    "    return len(li)\n",
    "findLineCount('data.txt')\n",
    "        \n"
   ]
  },
  {
   "cell_type": "code",
   "execution_count": 23,
   "metadata": {},
   "outputs": [
    {
     "data": {
      "text/plain": [
       "'uppercase:6 lowercae:149 digit:10'"
      ]
     },
     "execution_count": 23,
     "metadata": {},
     "output_type": "execute_result"
    }
   ],
   "source": [
    "#fucntion to find the upper and lower case characters\n",
    "# from the input stream\n",
    "def caseCount(filename):\n",
    "    cntupper=0\n",
    "    cntlower=0\n",
    "    cntdigit=0\n",
    "    with open(filename,'r') as f:\n",
    "        if f.mode=='r':\n",
    "            a=f.read()\n",
    "            li=list(a)\n",
    "    for i in range(len(li)):\n",
    "        if ord(li[i])>=65 and ord(li[i])<=90:\n",
    "            cntupper+=1\n",
    "        elif ord(li[i])>=97 and ord(li[i])<=122:\n",
    "            cntlower+=1\n",
    "        elif ord(li[i])>=48 and ord (li[i])<=57:\n",
    "            cntdigit+=1\n",
    "    output='uppercase:{0} lowercae:{1} digit:{2}'. format(cntupper,cntlower,cntdigit)\n",
    "    return output\n",
    "caseCount('data.txt')"
   ]
  },
  {
   "cell_type": "code",
   "execution_count": 3,
   "metadata": {},
   "outputs": [
    {
     "data": {
      "text/plain": [
       "16"
      ]
     },
     "execution_count": 3,
     "metadata": {},
     "output_type": "execute_result"
    }
   ],
   "source": [
    "def printdigit(s):\n",
    "    a=0\n",
    "    for i in range(len(s)):\n",
    "        if ord(s[i])>= ord('0') and ord(s[i])<=ord('9'):\n",
    "            if int(s[i])%2==0:\n",
    "                a=int(s[i])+a\n",
    "    return a\n",
    "printdigit('Applc18iation89')"
   ]
  },
  {
   "cell_type": "code",
   "execution_count": 22,
   "metadata": {},
   "outputs": [
    {
     "ename": "SyntaxError",
     "evalue": "invalid syntax (<ipython-input-22-60cbd02ce8ac>, line 6)",
     "output_type": "error",
     "traceback": [
      "\u001b[1;36m  File \u001b[1;32m\"<ipython-input-22-60cbd02ce8ac>\"\u001b[1;36m, line \u001b[1;32m6\u001b[0m\n\u001b[1;33m    elif ord(s[i])>=ord('a') and ord(s[i])<=ord('z'):\u001b[0m\n\u001b[1;37m       ^\u001b[0m\n\u001b[1;31mSyntaxError\u001b[0m\u001b[1;31m:\u001b[0m invalid syntax\n"
     ]
    }
   ],
   "source": [
    "def printupper(s):\n",
    "    stg=\"\"\n",
    "    for i in range(len(s)):\n",
    "        if ord(s[i])>=ord('A') and ord(s[i])<=ord('Z'):\n",
    "            stg+=chr(ord(s[i]+32)\n",
    "        elif ord(s[i])>=ord('a') and ord(s[i])<=ord('z'):\n",
    "            stg+=chr(ord(s[i]-32)\n",
    "    return stg\n",
    "printupper('PythonProgrMMINg')\n",
    "\n",
    "           \n",
    "        "
   ]
  },
  {
   "cell_type": "code",
   "execution_count": null,
   "metadata": {},
   "outputs": [],
   "source": []
  }
 ],
 "metadata": {
  "kernelspec": {
   "display_name": "Python 3",
   "language": "python",
   "name": "python3"
  },
  "language_info": {
   "codemirror_mode": {
    "name": "ipython",
    "version": 3
   },
   "file_extension": ".py",
   "mimetype": "text/x-python",
   "name": "python",
   "nbconvert_exporter": "python",
   "pygments_lexer": "ipython3",
   "version": "3.7.3"
  }
 },
 "nbformat": 4,
 "nbformat_minor": 2
}
